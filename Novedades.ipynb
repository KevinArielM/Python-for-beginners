{
 "cells": [
  {
   "cell_type": "markdown",
   "id": "72dbb559",
   "metadata": {},
   "source": [
    "Imprime la tabla de un número *n*"
   ]
  },
  {
   "cell_type": "code",
   "execution_count": 1,
   "id": "e2c16f08",
   "metadata": {},
   "outputs": [
    {
     "name": "stdout",
     "output_type": "stream",
     "text": [
      "12\n",
      "12\n",
      "24\n",
      "36\n",
      "48\n",
      "60\n",
      "72\n",
      "84\n",
      "96\n",
      "108\n",
      "120\n"
     ]
    }
   ],
   "source": [
    "n=int(input())\n",
    "for i in range (1,11):\n",
    "    print(i*n)\n",
    "    "
   ]
  },
  {
   "cell_type": "code",
   "execution_count": 2,
   "id": "06d7173b",
   "metadata": {},
   "outputs": [
    {
     "name": "stdout",
     "output_type": "stream",
     "text": [
      "12\n",
      "12 x 1 = 12\n",
      "12 x 2 = 24\n",
      "12 x 3 = 36\n",
      "12 x 4 = 48\n",
      "12 x 5 = 60\n",
      "12 x 6 = 72\n",
      "12 x 7 = 84\n",
      "12 x 8 = 96\n",
      "12 x 9 = 108\n",
      "12 x 10 = 120\n"
     ]
    }
   ],
   "source": [
    "n=int(input())\n",
    "for i in range (1,11):\n",
    "    print(f\"{n} x {i} = {n*i}\")"
   ]
  },
  {
   "cell_type": "code",
   "execution_count": 5,
   "id": "c2fd2aba",
   "metadata": {},
   "outputs": [],
   "source": [
    "#asignación múltiple\n",
    "a, b, c = 1, 2, 3\n"
   ]
  },
  {
   "cell_type": "code",
   "execution_count": 6,
   "id": "20b43de9",
   "metadata": {},
   "outputs": [
    {
     "data": {
      "text/plain": [
       "1"
      ]
     },
     "execution_count": 6,
     "metadata": {},
     "output_type": "execute_result"
    }
   ],
   "source": [
    "a"
   ]
  },
  {
   "cell_type": "code",
   "execution_count": 3,
   "id": "e3a5e0c3",
   "metadata": {},
   "outputs": [
    {
     "name": "stdout",
     "output_type": "stream",
     "text": [
      "Mi nombre es Alice y tengo 30 años.\n"
     ]
    }
   ],
   "source": [
    "nombre = \"Alice\"\n",
    "edad = 30\n",
    "print(f\"Mi nombre es {nombre} y tengo {edad} años.\")\n"
   ]
  },
  {
   "cell_type": "code",
   "execution_count": 4,
   "id": "d1ab70c3",
   "metadata": {},
   "outputs": [
    {
     "name": "stdout",
     "output_type": "stream",
     "text": [
      "Escribe tu nombre:Ariel\n",
      "Escribe tu edad:26\n",
      "Mi nombre es Ariel y tengo 26 años\n"
     ]
    }
   ],
   "source": [
    "nombre=input(\"Escribe tu nombre:\")\n",
    "edad=int(input(\"Escribe tu edad:\"))\n",
    "print(f\"Mi nombre es {nombre} y tengo {edad} años\")"
   ]
  },
  {
   "cell_type": "code",
   "execution_count": 6,
   "id": "201a1fb8",
   "metadata": {},
   "outputs": [
    {
     "name": "stdout",
     "output_type": "stream",
     "text": [
      "0 manzana\n",
      "1 banana\n",
      "2 cereza\n"
     ]
    }
   ],
   "source": [
    "frutas = ['manzana', 'banana', 'cereza']\n",
    "for index, frutas in enumerate(frutas):\n",
    "    print(index, frutas)\n"
   ]
  },
  {
   "cell_type": "code",
   "execution_count": 11,
   "id": "ebd5590b",
   "metadata": {},
   "outputs": [
    {
     "name": "stdout",
     "output_type": "stream",
     "text": [
      "Alicia tiene 30 años.\n",
      "Bob tiene 25 años.\n",
      "Charlie tiene 35 años.\n"
     ]
    }
   ],
   "source": [
    "nombres = ['Alicia', 'Bob', 'Charlie']\n",
    "edades = [30, 25, 35]\n",
    "for nombres, edades in zip(nombres, edades):\n",
    "    print(f\"{nombres} tiene {edades} años.\")\n"
   ]
  },
  {
   "cell_type": "code",
   "execution_count": 19,
   "id": "1f9563c3",
   "metadata": {},
   "outputs": [
    {
     "name": "stdout",
     "output_type": "stream",
     "text": [
      "Cuenta de colores Counter({'azul': 3, 'rojo': 2, 'verde': 1})\n"
     ]
    }
   ],
   "source": [
    "from collections import Counter\n",
    "colors = ['rojo', 'azul', 'rojo', 'verde', 'azul', 'azul']\n",
    "color_counter = Counter(colors)\n",
    "print(f\"Cuenta de colores {color_counter}\")\n"
   ]
  },
  {
   "cell_type": "code",
   "execution_count": 29,
   "id": "36bc8cc1",
   "metadata": {},
   "outputs": [
    {
     "name": "stdout",
     "output_type": "stream",
     "text": [
      "       1       \n",
      "      1 1      \n",
      "     1 2 1     \n"
     ]
    }
   ],
   "source": [
    "def coeficientes_binomiales(n):\n",
    "    triangle = [[1]]\n",
    "    for i in range(1, n):\n",
    "        row = [1]\n",
    "        for j in range(1, i):\n",
    "            row.append(triangle[i-1][j-1] + triangle[i-1][j])\n",
    "        row.append(1)\n",
    "        triangle.append(row)\n",
    "    return triangle\n",
    "\n",
    "def coeficientes_binomiales(triangle):\n",
    "    for row in triangle:\n",
    "        print(\" \".join(map(str, row)).center(len(triangle[-1])*5))\n",
    "\n",
    "n = 3  # Número de filas que deseas generar\n",
    "triangle = binomial_triangle(n)\n",
    "print_binomial_triangle(triangle)\n",
    "\n"
   ]
  }
 ],
 "metadata": {
  "kernelspec": {
   "display_name": "Python 3 (ipykernel)",
   "language": "python",
   "name": "python3"
  },
  "language_info": {
   "codemirror_mode": {
    "name": "ipython",
    "version": 3
   },
   "file_extension": ".py",
   "mimetype": "text/x-python",
   "name": "python",
   "nbconvert_exporter": "python",
   "pygments_lexer": "ipython3",
   "version": "3.9.12"
  }
 },
 "nbformat": 4,
 "nbformat_minor": 5
}
